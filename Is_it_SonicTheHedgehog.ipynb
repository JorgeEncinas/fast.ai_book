{
  "metadata": {
    "kernelspec": {
      "language": "python",
      "display_name": "Python 3",
      "name": "python3"
    },
    "language_info": {
      "name": "python",
      "version": "3.10.12",
      "mimetype": "text/x-python",
      "codemirror_mode": {
        "name": "ipython",
        "version": 3
      },
      "pygments_lexer": "ipython3",
      "nbconvert_exporter": "python",
      "file_extension": ".py"
    },
    "kaggle": {
      "accelerator": "none",
      "dataSources": [],
      "dockerImageVersionId": 30635,
      "isInternetEnabled": true,
      "language": "python",
      "sourceType": "notebook",
      "isGpuEnabled": false
    },
    "colab": {
      "name": "Is_it_SonicTheHedgehog",
      "provenance": [],
      "include_colab_link": true
    }
  },
  "nbformat_minor": 0,
  "nbformat": 4,
  "cells": [
    {
      "cell_type": "markdown",
      "metadata": {
        "id": "view-in-github",
        "colab_type": "text"
      },
      "source": [
        "<a href=\"https://colab.research.google.com/github/JorgeEncinas/fast.ai_book/blob/main/Is_it_SonicTheHedgehog.ipynb\" target=\"_parent\"><img src=\"https://colab.research.google.com/assets/colab-badge.svg\" alt=\"Open In Colab\"/></a>"
      ]
    },
    {
      "cell_type": "markdown",
      "source": [
        "# Is it Sonic the Hedgehog?\n",
        "As we all know, this fellow is often confused in-universe with other fellow anthropomorphic creatures. Let's see how this Binary Classification fares!"
      ],
      "metadata": {
        "id": "boU2o5eeC_L6"
      }
    },
    {
      "cell_type": "code",
      "source": [
        "!rm -rf /kaggle/working/sonic_or_not/"
      ],
      "metadata": {
        "execution": {
          "iopub.status.busy": "2024-08-29T04:53:09.525608Z",
          "iopub.execute_input": "2024-08-29T04:53:09.526157Z",
          "iopub.status.idle": "2024-08-29T04:53:10.707383Z",
          "shell.execute_reply.started": "2024-08-29T04:53:09.526111Z",
          "shell.execute_reply": "2024-08-29T04:53:10.705749Z"
        },
        "trusted": true,
        "id": "ukncSUUBC_L8"
      },
      "execution_count": null,
      "outputs": []
    },
    {
      "cell_type": "markdown",
      "source": [
        "# Setup\n",
        "Let's follow the setup done by fast.ai\n",
        "We'll check the connection and install the packages needed."
      ],
      "metadata": {
        "id": "Jh0bBrrSC_L8"
      }
    },
    {
      "cell_type": "code",
      "source": [
        "import socket,warnings\n",
        "try:\n",
        "    socket.setdefaulttimeout(1)\n",
        "    socket.socket(socket.AF_INET, socket.SOCK_STREAM).connect(('1.1.1.1', 53))\n",
        "except socket.error as ex: raise Exception(\"STOP: No internet. Click '>|' in top right and set 'Internet' switch to on\")"
      ],
      "metadata": {
        "_uuid": "8f2839f25d086af736a60e9eeb907d3b93b6e0e5",
        "_cell_guid": "b1076dfc-b9ad-4769-8c92-a6c4dae69d19",
        "execution": {
          "iopub.status.busy": "2024-08-29T04:53:11.836501Z",
          "iopub.execute_input": "2024-08-29T04:53:11.837717Z",
          "iopub.status.idle": "2024-08-29T04:53:11.85918Z",
          "shell.execute_reply.started": "2024-08-29T04:53:11.837664Z",
          "shell.execute_reply": "2024-08-29T04:53:11.858051Z"
        },
        "trusted": true,
        "id": "SCllFv25C_L9"
      },
      "execution_count": null,
      "outputs": []
    },
    {
      "cell_type": "code",
      "source": [
        "#hide_output\n",
        "# It's a good idea to ensure you're running the latest version of any libraries you need.\n",
        "# `!pip install -Uqq <libraries>` upgrades to the latest version of <libraries>\n",
        "# NB: You can safely ignore any warnings or errors pip spits out about running as root or incompatibilities\n",
        "!pip install -Uqq fastai duckduckgo_search\n",
        "!pip install scipy --upgrade --quiet"
      ],
      "metadata": {
        "_kg_hide-output": true,
        "execution": {
          "iopub.status.busy": "2024-08-29T04:33:23.762711Z",
          "iopub.execute_input": "2024-08-29T04:33:23.763206Z",
          "iopub.status.idle": "2024-08-29T04:33:54.252621Z",
          "shell.execute_reply.started": "2024-08-29T04:33:23.763168Z",
          "shell.execute_reply": "2024-08-29T04:33:54.250963Z"
        },
        "trusted": true,
        "id": "iL0J7UvTC_L9"
      },
      "execution_count": null,
      "outputs": []
    },
    {
      "cell_type": "markdown",
      "source": [
        "# Searching for images through DuckDuckGo\n",
        "Note that I found fastai's notebook used some stuff that was deprecated.\n",
        "Which is why I've included in the code comments what I changed, and where I got it from.\n",
        "\n",
        "Here's the [most recent link](https://forums.fast.ai/t/duckduckgo-search-not-working/105738/70)"
      ],
      "metadata": {
        "id": "JFdLvYC0C_L-"
      }
    },
    {
      "cell_type": "code",
      "source": [
        "from duckduckgo_search import DDGS\n",
        "from fastcore.all import *\n",
        "\n",
        "def search_images(term, max_images=30):\n",
        "    print(f\"Searching for '{term}'\")\n",
        "    #Current form was deprecated. Switching to: https://stackoverflow.com/a/76711510\n",
        "    #return L(DDGS().images(term, max_results=max_images)).itemgot('image')\n",
        "    #Also from: https://stackoverflow.com/a/76700197\n",
        "    with DDGS() as ddgs:\n",
        "        search_results = ddgs.images(keywords=term,max_results=max_images)\n",
        "        print(\"Search result successful\")\n",
        "        #images_list = [next(iter(search_results)).get(\"image\") for _ in range(max_images)]\n",
        "        #return L(images_list)\n",
        "        return L(search_results).itemgot('image')\n",
        "\n",
        "urls = search_images(\"sonic the hedgehog pose\", 1)"
      ],
      "metadata": {
        "execution": {
          "iopub.status.busy": "2024-08-29T04:53:16.474078Z",
          "iopub.execute_input": "2024-08-29T04:53:16.475144Z",
          "iopub.status.idle": "2024-08-29T04:53:17.071489Z",
          "shell.execute_reply.started": "2024-08-29T04:53:16.475095Z",
          "shell.execute_reply": "2024-08-29T04:53:17.070327Z"
        },
        "trusted": true,
        "id": "R1FbpA98C_L-"
      },
      "execution_count": null,
      "outputs": []
    },
    {
      "cell_type": "markdown",
      "source": [
        "# Test downloading an image, and printing it.\n",
        "Here we download an image by importing the \"download_url\" library.\n",
        "It's simple: you specify the download URL, and the image's filename.\n",
        "\n",
        "Then we'll print it to a cell output using \".to_thumb()\", which asks us for the image resolution."
      ],
      "metadata": {
        "id": "R61sUQ1-C_L-"
      }
    },
    {
      "cell_type": "code",
      "source": [
        "\n",
        "from fastdownload import download_url\n",
        "dest = 'sonic.jpg'\n",
        "download_url(urls[0], dest, show_progress=False)\n",
        "\n",
        "from fastai.vision.all import *\n",
        "im = Image.open(dest)\n",
        "im.to_thumb(256,256)"
      ],
      "metadata": {
        "execution": {
          "iopub.status.busy": "2024-08-29T04:53:22.98874Z",
          "iopub.execute_input": "2024-08-29T04:53:22.989179Z",
          "iopub.status.idle": "2024-08-29T04:53:23.640322Z",
          "shell.execute_reply.started": "2024-08-29T04:53:22.989144Z",
          "shell.execute_reply": "2024-08-29T04:53:23.639115Z"
        },
        "trusted": true,
        "id": "KUaZENAnC_L_"
      },
      "execution_count": null,
      "outputs": []
    },
    {
      "cell_type": "markdown",
      "source": [
        "## Downloading another image\n",
        "Now I download a Shadow the Hedgehog image."
      ],
      "metadata": {
        "id": "-S797LTNC_MA"
      }
    },
    {
      "cell_type": "code",
      "source": [
        "download_url(search_images('shadow the hedgehog pose', max_images=1)[0], 'shadow.jpg', show_progress=False)\n",
        "Image.open('shadow.jpg').to_thumb(256,256)"
      ],
      "metadata": {
        "execution": {
          "iopub.status.busy": "2024-08-29T04:53:25.43517Z",
          "iopub.execute_input": "2024-08-29T04:53:25.436041Z",
          "iopub.status.idle": "2024-08-29T04:53:26.199833Z",
          "shell.execute_reply.started": "2024-08-29T04:53:25.435999Z",
          "shell.execute_reply": "2024-08-29T04:53:26.198186Z"
        },
        "trusted": true,
        "id": "IC_3V0Y7C_MA"
      },
      "execution_count": null,
      "outputs": []
    },
    {
      "cell_type": "markdown",
      "source": [
        "# Generating the dataset\n",
        "Here we iteratively download images using search queries \"sonic the hedgehog pose\", and \"shadow the hedgehog pose\". I added \"pose\" because DuckDuckGo tends to add other Sonic characters if you only include Sonic's name, or Shadow's name.\n",
        "Asking for a pose seems to more consistently get correct images.\n",
        "\n",
        "For each name in \"searches\", we're making a search, and downloading images from the resulting URLs. Lastly, we resize them, I guess it's because the Neural Network requires a fixed, smaller size. It's fixed to the input layer units, and it's small to be feasible to run without using up resources too much."
      ],
      "metadata": {
        "id": "Pcy9-nXOC_MA"
      }
    },
    {
      "cell_type": "code",
      "source": [
        "searches = 'sonic the hedgehog pose','shadow the hedgehog pose'\n",
        "path = Path('sonic_or_not')\n",
        "from time import sleep\n",
        "\n",
        "for o in searches:\n",
        "    dest = (path/o)\n",
        "    dest.mkdir(exist_ok=True, parents=True)\n",
        "    urls = search_images(f'{o}', max_images=100)\n",
        "    print(urls)\n",
        "    download_images(dest, urls=urls)\n",
        "    sleep(10)  # Pause between searches to avoid over-loading server\n",
        "    #download_images(dest, urls=search_images(f'{o} sun photo'))\n",
        "    #sleep(10)\n",
        "    #download_images(dest, urls=search_images(f'{o} shade photo'))\n",
        "    #sleep(10)\n",
        "    resize_images(path/o, max_size=400, dest=path/o)"
      ],
      "metadata": {
        "execution": {
          "iopub.status.busy": "2024-08-29T05:10:04.99359Z",
          "iopub.execute_input": "2024-08-29T05:10:04.994724Z",
          "iopub.status.idle": "2024-08-29T05:11:19.099065Z",
          "shell.execute_reply.started": "2024-08-29T05:10:04.99468Z",
          "shell.execute_reply": "2024-08-29T05:11:19.097493Z"
        },
        "trusted": true,
        "id": "4GMW8mYyC_MB"
      },
      "execution_count": null,
      "outputs": []
    },
    {
      "cell_type": "markdown",
      "source": [
        "# Deleting failed images\n",
        "Seems like the \"verify_images()\" function can tell which images would not be appropriate to use."
      ],
      "metadata": {
        "id": "5sEBkMH4C_MB"
      }
    },
    {
      "cell_type": "code",
      "source": [
        "failed = verify_images(get_image_files(path))\n",
        "failed.map(Path.unlink)\n",
        "len(failed)"
      ],
      "metadata": {
        "execution": {
          "iopub.status.busy": "2024-08-29T05:11:29.787813Z",
          "iopub.execute_input": "2024-08-29T05:11:29.788933Z",
          "iopub.status.idle": "2024-08-29T05:11:30.752726Z",
          "shell.execute_reply.started": "2024-08-29T05:11:29.788892Z",
          "shell.execute_reply": "2024-08-29T05:11:30.751428Z"
        },
        "trusted": true,
        "id": "GXEdGq6lC_MB"
      },
      "execution_count": null,
      "outputs": []
    },
    {
      "cell_type": "markdown",
      "source": [
        "# Creating the DataBlock\n",
        "My understanding is that this is setting up the NN's architecture, data, and labels.\n",
        "First, you set the \"blocks\", which look like two layers: an Image-processing layer (\"ImageBlock\"), which could be a simple NN layer flattening the image into a one-dimensional vector; and a Softmax layer (\"CategoryBlock\"), in which a probability is assigned to the image for each category available. In this case, we have a category for Sonic, and another one for Shadow.\n",
        "\n",
        "Then get_items asks for a function to get the images.\n",
        "The splitter is asking for a split of the images. RandomSplitter is an easy way to setup our dataset to be divided between Training and Dev. There's no third, \"Test\" dataset.\n",
        "get_y asks for the labels, for which we've supplied it the folder names. Hence the printed labels show \"shadow the hedgehog pose\" and \"sonic the hedgehog pose\".\n",
        "Lastly, I don't remember what item_tfms does. Seems like an image-resizing tool."
      ],
      "metadata": {
        "id": "HsuvTYwxC_MC"
      }
    },
    {
      "cell_type": "code",
      "source": [
        "dls = DataBlock(\n",
        "    blocks=(ImageBlock, CategoryBlock),\n",
        "    get_items=get_image_files,\n",
        "    splitter=RandomSplitter(valid_pct=0.2, seed=42),\n",
        "    get_y=parent_label,\n",
        "    item_tfms=[Resize(192, method='squish')]\n",
        ").dataloaders(path, bs=32)\n",
        "\n",
        "dls.show_batch(max_n=6)\n"
      ],
      "metadata": {
        "execution": {
          "iopub.status.busy": "2024-08-29T05:11:38.371494Z",
          "iopub.execute_input": "2024-08-29T05:11:38.372824Z",
          "iopub.status.idle": "2024-08-29T05:11:39.411503Z",
          "shell.execute_reply.started": "2024-08-29T05:11:38.37276Z",
          "shell.execute_reply": "2024-08-29T05:11:39.410167Z"
        },
        "trusted": true,
        "id": "2YDPv0QUC_MC"
      },
      "execution_count": null,
      "outputs": []
    },
    {
      "cell_type": "markdown",
      "source": [
        "# Determining which category's which\n",
        "I had trouble telling which category was Sonic, and which was Shadow. In fact, I didn't know they would be mixed-up. It striked me as more than coincidence that results always showed probabilities to be almost the opposite of ground-truth.\n",
        "\n",
        "So I wrote this block to ascertain, by printing one batch, what each category corresponds to."
      ],
      "metadata": {
        "id": "_QKl4QjIC_MC"
      }
    },
    {
      "cell_type": "code",
      "source": [
        "#While I've done this strategic grid at work,\n",
        "# here I didn't want to linger too much on this part, as it's mostly for debugging purposes\n",
        "# so I got some AI help to get the grid printing going.\n",
        "\n",
        "images, labels = dls.train.one_batch()\n",
        "num_images = len(images)\n",
        "num_cols = 3\n",
        "num_rows = (num_images + num_cols - 1) // num_cols\n",
        "\n",
        "fig, axes = plt.subplots(num_rows, num_cols, figsize=(15, 5*num_rows))\n",
        "\n",
        "for i, (image,label) in enumerate(zip(images, labels)):\n",
        "    category_name = dls.vocab[label]\n",
        "    image_np = image.permute(1, 2, 0).numpy()\n",
        "    ax = axes[i // num_cols, i % num_cols]\n",
        "    ax.imshow(image_np)\n",
        "    ax.set_title(f\"{label} - {category_name}\")\n",
        "    ax.axis('off')\n",
        "\n",
        "plt.tight_layout()\n",
        "plt.show()"
      ],
      "metadata": {
        "execution": {
          "iopub.status.busy": "2024-08-29T05:11:45.699398Z",
          "iopub.execute_input": "2024-08-29T05:11:45.700392Z",
          "iopub.status.idle": "2024-08-29T05:11:52.804327Z",
          "shell.execute_reply.started": "2024-08-29T05:11:45.700323Z",
          "shell.execute_reply": "2024-08-29T05:11:52.800928Z"
        },
        "trusted": true,
        "id": "Aw_KT4iBC_MC"
      },
      "execution_count": null,
      "outputs": []
    },
    {
      "cell_type": "markdown",
      "source": [
        "# Running the model\n",
        "Now we get to actually training a model. It's a pre-trained ResNet18 model, so the weights are already pretty good, just not for our purposes.\n",
        "To adapt the model, what is most likely happening is that the top layer (could be more than one) is the only one that is not frozen: that is, just that one has its weights updated.\n",
        "\n",
        "We're essentially using Transfer Learning, as we're working with a CNN that has already learned many lower-level features. Now we just need it to adapt to new, higher-level abstractions to detect Sonic and Shadow"
      ],
      "metadata": {
        "id": "E6nR51yoC_MD"
      }
    },
    {
      "cell_type": "code",
      "source": [
        "learn = vision_learner(dls, resnet18, metrics=error_rate)\n",
        "learn.fine_tune(3)"
      ],
      "metadata": {
        "execution": {
          "iopub.status.busy": "2024-08-29T05:37:10.090386Z",
          "iopub.execute_input": "2024-08-29T05:37:10.090794Z",
          "iopub.status.idle": "2024-08-29T05:39:01.310329Z",
          "shell.execute_reply.started": "2024-08-29T05:37:10.090759Z",
          "shell.execute_reply": "2024-08-29T05:39:01.308925Z"
        },
        "trusted": true,
        "id": "ti_QMcY9C_MD"
      },
      "execution_count": null,
      "outputs": []
    },
    {
      "cell_type": "code",
      "source": [
        "interp = ClassificationInterpretation.from_learner(learn)\n",
        "interp.plot_confusion_matrix()"
      ],
      "metadata": {
        "execution": {
          "iopub.status.busy": "2024-08-29T05:39:10.093675Z",
          "iopub.execute_input": "2024-08-29T05:39:10.094106Z",
          "iopub.status.idle": "2024-08-29T05:39:17.15392Z",
          "shell.execute_reply.started": "2024-08-29T05:39:10.094068Z",
          "shell.execute_reply": "2024-08-29T05:39:17.152505Z"
        },
        "trusted": true,
        "id": "F-1KRMnUC_MD"
      },
      "execution_count": null,
      "outputs": []
    },
    {
      "cell_type": "markdown",
      "source": [
        "# Testing the model: Download another image\n",
        "Let's download a new image, and see how the model can extrapolate to new, unseen examples."
      ],
      "metadata": {
        "id": "OgTLPhC8C_MD"
      }
    },
    {
      "cell_type": "code",
      "source": [
        "#Download another image\n",
        "img_urls = search_images(\"sonic the hedgehog dynamic pose\", 1)\n",
        "dest = 'sonic3.jpg'\n",
        "download_url(img_urls[0], dest, show_progress=False)\n",
        "im = Image.open(dest)\n",
        "display(im.to_thumb(256,256))\n",
        "\n",
        "img_urls_2 = search_images(\"shadow the hedgehog movie pose\", 1)\n",
        "dest = \"shadow3.jpg\"\n",
        "download_url(img_urls_2[0], dest, show_progress=False)\n",
        "im = Image.open(dest)\n",
        "im.to_thumb(256, 256)"
      ],
      "metadata": {
        "execution": {
          "iopub.status.busy": "2024-08-29T05:41:26.870705Z",
          "iopub.execute_input": "2024-08-29T05:41:26.871696Z",
          "iopub.status.idle": "2024-08-29T05:41:28.275742Z",
          "shell.execute_reply.started": "2024-08-29T05:41:26.871645Z",
          "shell.execute_reply": "2024-08-29T05:41:28.274612Z"
        },
        "trusted": true,
        "id": "XERHNql_C_MD"
      },
      "execution_count": null,
      "outputs": []
    },
    {
      "cell_type": "markdown",
      "source": [
        "# The actual test!\n",
        "See if it thinks it's Sonic or not!"
      ],
      "metadata": {
        "id": "uQLT9kzzC_ME"
      }
    },
    {
      "cell_type": "code",
      "source": [
        "is_category, prediction_index, probs = learn.predict(PILImage.create('sonic3.jpg'))\n",
        "predicted_category = dls.vocab[prediction_index]\n",
        "print(f\"probs: {probs}\")\n",
        "print(f\"Is this {predicted_category}? - {is_category}.\")\n",
        "print(f\"Probability it's {predicted_category}: {probs[prediction_index]:.4f}\")\n",
        "display(Image.open('sonic3.jpg').to_thumb(256,256))\n",
        "\n",
        "is_category_2, prediction_index_2, probs_2 = learn.predict(PILImage.create('shadow.jpg'))\n",
        "predicted_category_2 = dls.vocab[prediction_index_2]\n",
        "print(f\"probs: {probs_2}\")\n",
        "print(f\"Is this {predicted_category_2}? - {is_category_2}.\")\n",
        "print(f\"Probability it's {predicted_category_2}: {probs_2[prediction_index_2]:.4f}\")\n",
        "Image.open('shadow3.jpg').to_thumb(256,256)\n"
      ],
      "metadata": {
        "execution": {
          "iopub.status.busy": "2024-08-29T05:46:55.147832Z",
          "iopub.execute_input": "2024-08-29T05:46:55.148325Z",
          "iopub.status.idle": "2024-08-29T05:46:55.513737Z",
          "shell.execute_reply.started": "2024-08-29T05:46:55.148279Z",
          "shell.execute_reply": "2024-08-29T05:46:55.512645Z"
        },
        "trusted": true,
        "id": "7_6rc9rUC_ME"
      },
      "execution_count": null,
      "outputs": []
    },
    {
      "cell_type": "markdown",
      "source": [
        "After some testing, seems like the model is predicting correctly (at least on these two examples)\n",
        "\n",
        "Now we can prove that this Neural Network is better than the Sonic Adventure 2 dudes at telling Sonic and Shadow apart. Wow!"
      ],
      "metadata": {
        "id": "R3FFi5y1C_ME"
      }
    },
    {
      "cell_type": "code",
      "source": [
        "#I just wanted to look at the validation after the fact.\n",
        "images, labels = dls.valid.one_batch()\n",
        "num_images = len(images)\n",
        "num_cols = 3\n",
        "num_rows = (num_images + num_cols - 1) // num_cols\n",
        "\n",
        "fig, axes = plt.subplots(num_rows, num_cols, figsize=(15, 5*num_rows))\n",
        "\n",
        "for i, (image,label) in enumerate(zip(images, labels)):\n",
        "    category_name = dls.vocab[label]\n",
        "    image_np = image.permute(1, 2, 0).numpy()\n",
        "    ax = axes[i // num_cols, i % num_cols]\n",
        "    ax.imshow(image_np)\n",
        "    ax.set_title(f\"{label} - {category_name}\")\n",
        "    ax.axis('off')\n",
        "\n",
        "plt.tight_layout()\n",
        "plt.show()"
      ],
      "metadata": {
        "execution": {
          "iopub.status.busy": "2024-08-29T06:01:07.406813Z",
          "iopub.execute_input": "2024-08-29T06:01:07.407242Z",
          "iopub.status.idle": "2024-08-29T06:01:14.232861Z",
          "shell.execute_reply.started": "2024-08-29T06:01:07.407205Z",
          "shell.execute_reply": "2024-08-29T06:01:14.231538Z"
        },
        "trusted": true,
        "id": "m5tK_0V0C_ME"
      },
      "execution_count": null,
      "outputs": []
    },
    {
      "cell_type": "markdown",
      "source": [
        "# Exporting the model"
      ],
      "metadata": {
        "id": "De50RUFOC_ME"
      }
    },
    {
      "cell_type": "code",
      "source": [
        "learn.export('sonicModel.pkl') #here \"learn\" is our model, the variable is just called that."
      ],
      "metadata": {
        "execution": {
          "iopub.status.busy": "2024-08-29T06:01:18.910447Z",
          "iopub.execute_input": "2024-08-29T06:01:18.911468Z",
          "iopub.status.idle": "2024-08-29T06:01:19.022608Z",
          "shell.execute_reply.started": "2024-08-29T06:01:18.911416Z",
          "shell.execute_reply": "2024-08-29T06:01:19.021394Z"
        },
        "trusted": true,
        "id": "aGs_gl-DC_MF"
      },
      "execution_count": null,
      "outputs": []
    },
    {
      "cell_type": "code",
      "source": [],
      "metadata": {
        "id": "gBYjsKyMC_MF"
      },
      "execution_count": null,
      "outputs": []
    }
  ]
}